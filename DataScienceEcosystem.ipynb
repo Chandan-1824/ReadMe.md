{
 "cells": [
  {
   "cell_type": "markdown",
   "id": "f6fa192c-a192-48a8-8a8d-f2d2c7b503d3",
   "metadata": {},
   "source": [
    "<h1>Data Science Tools and Ecosystem<h1>"
   ]
  },
  {
   "cell_type": "markdown",
   "id": "39e3f255-b299-4acf-9a79-25b0fa0e8106",
   "metadata": {},
   "source": [
    "In this notebook, Data Science Tools and Ecosystem are summarized."
   ]
  },
  {
   "cell_type": "markdown",
   "id": "06e27e13-42a4-49b4-af78-cd5b30e1032a",
   "metadata": {},
   "source": [
    "**Objective**\n",
    "<ul>\n",
    "    <li>The popular languages that Data Scientists use</li>\n",
    "     <li>Commonly used libraries used by Data Scientists</li>\n",
    "     <li>DataScience Tools</li>\n",
    "</ul>"
   ]
  },
  {
   "cell_type": "markdown",
   "id": "7f4caf1b-2b0e-455c-bf40-124b98e5b776",
   "metadata": {},
   "source": [
    "Some of the popular languages that Data Scientists use are:\n",
    "1.Python\n",
    "2.JavaScript\n",
    "3.Java\n",
    "4.R"
   ]
  },
  {
   "cell_type": "markdown",
   "id": "793592ca-55c1-445b-9dd4-c68b8bda6edc",
   "metadata": {},
   "source": [
    "Some of the commonly used libraries used by Data Scientists include:\n",
    "1.Numpy\n",
    "2.Pandas\n",
    "3.Matplotlib"
   ]
  },
  {
   "cell_type": "markdown",
   "id": "5f9c9467-0efc-49fe-87a3-8343a38e5ecf",
   "metadata": {},
   "source": [
    "DataScience Tools:\n",
    "1.Jupyter Notebook \n",
    "2.RStudio \n",
    "3.Apache Spark\n",
    "4.Tableau "
   ]
  },
  {
   "cell_type": "markdown",
   "id": "0bacf037-f0c1-48e5-98c6-c2e47dde5004",
   "metadata": {},
   "source": [
    "<h3>Below are a few examples of evaluating arithmetic expressions in Python<h3>"
   ]
  },
  {
   "cell_type": "code",
   "execution_count": 1,
   "id": "b5764f3e-2425-4136-bc65-a29d485d1250",
   "metadata": {},
   "outputs": [
    {
     "name": "stdout",
     "output_type": "stream",
     "text": [
      "17\n"
     ]
    }
   ],
   "source": [
    "# This a simple arithmetic expression to mutiply then add integers\n",
    "a = (3*4)+5\n",
    "print(a)"
   ]
  },
  {
   "cell_type": "code",
   "execution_count": 2,
   "id": "755a9ec9-47e9-432c-a426-95bbd3650b53",
   "metadata": {},
   "outputs": [
    {
     "name": "stdout",
     "output_type": "stream",
     "text": [
      "3.3333333333333335\n"
     ]
    }
   ],
   "source": [
    "# This will convert 200 minutes to hours by diving by 60\n",
    "h = 200/60\n",
    "print(h)"
   ]
  },
  {
   "cell_type": "markdown",
   "id": "a58e2b73-3cba-4256-b248-1986cc231132",
   "metadata": {},
   "source": [
    "<h2>Author: Chandan Kumar Mistry<h2>"
   ]
  },
  {
   "cell_type": "code",
   "execution_count": null,
   "id": "35a569bc-0748-46e6-ac26-e812c8e0a7c5",
   "metadata": {},
   "outputs": [],
   "source": []
  }
 ],
 "metadata": {
  "kernelspec": {
   "display_name": "Python",
   "language": "python",
   "name": "conda-env-python-py"
  },
  "language_info": {
   "codemirror_mode": {
    "name": "ipython",
    "version": 3
   },
   "file_extension": ".py",
   "mimetype": "text/x-python",
   "name": "python",
   "nbconvert_exporter": "python",
   "pygments_lexer": "ipython3",
   "version": "3.7.12"
  }
 },
 "nbformat": 4,
 "nbformat_minor": 5
}
